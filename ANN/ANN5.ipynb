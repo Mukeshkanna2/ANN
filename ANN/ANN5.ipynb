{
  "nbformat": 4,
  "nbformat_minor": 0,
  "metadata": {
    "colab": {
      "provenance": []
    },
    "kernelspec": {
      "name": "python3",
      "display_name": "Python 3"
    },
    "language_info": {
      "name": "python"
    }
  },
  "cells": [
    {
      "cell_type": "code",
      "execution_count": 20,
      "metadata": {
        "id": "Dnq_SGH3Cwnh"
      },
      "outputs": [],
      "source": [
        "import numpy as np\n",
        "import pandas as pd"
      ]
    },
    {
      "cell_type": "code",
      "source": [
        "class NeuralNetwork:\n",
        "    def __init__(self, input_size, hidden_size, output_size, learning_rate):\n",
        "        self.input_size = input_size\n",
        "        self.hidden_size = hidden_size\n",
        "        self.output_size = output_size\n",
        "        self.learning_rate = learning_rate\n",
        "        \n",
        "        # Initialize weights\n",
        "        self.W1 = np.random.randn(self.input_size, self.hidden_size)\n",
        "        self.W2 = np.random.randn(self.hidden_size, self.output_size)\n",
        "        \n",
        "    def sigmoid(self, z):\n",
        "        # Sigmoid activation function\n",
        "        return 1 / (1 + np.exp(-z))\n",
        "    \n",
        "    def sigmoid_derivative(self, z):\n",
        "        # Derivative of sigmoid function\n",
        "        return self.sigmoid(z) * (1 - self.sigmoid(z))\n",
        "    \n",
        "    def forward(self, X):\n",
        "        # Forward propagation\n",
        "        self.z1 = np.dot(X, self.W1)\n",
        "        self.a1 = self.sigmoid(self.z1)\n",
        "        self.z2 = np.dot(self.a1, self.W2)\n",
        "        self.y_hat = self.sigmoid(self.z2)\n",
        "        return self.y_hat\n",
        "    \n",
        "    def backward(self, X, y, y_hat):\n",
        "        # Backward propagation\n",
        "        delta3 = (y_hat - y) * self.sigmoid_derivative(self.z2)\n",
        "        dW2 = np.dot(self.a1.T, delta3)\n",
        "        delta2 = np.dot(delta3, self.W2.T) * self.sigmoid_derivative(self.z1)\n",
        "        dW1 = np.dot(X.T, delta2)\n",
        "        \n",
        "        # Update weights\n",
        "        self.W1 -= self.learning_rate * dW1\n",
        "        self.W2 -= self.learning_rate * dW2\n",
        "    \n",
        "    def train(self, X_train, y_train, epochs):\n",
        "        for i in range(epochs):\n",
        "            # Forward pass\n",
        "            y_hat = self.forward(X_train)\n",
        "            \n",
        "            # Backward pass\n",
        "            self.backward(X_train, y_train, y_hat)\n",
        "    \n",
        "    def predict(self, X_test):\n",
        "        # Predict using the trained model\n",
        "        y_hat = self.forward(X_test)\n",
        "        return y_hat"
      ],
      "metadata": {
        "id": "7BRUvsyvC9xA"
      },
      "execution_count": 21,
      "outputs": []
    },
    {
      "cell_type": "code",
      "source": [
        "# Load the dataset\n",
        "data = pd.read_csv('diabetes.csv')"
      ],
      "metadata": {
        "id": "KRdy4FRqDLK2"
      },
      "execution_count": 22,
      "outputs": []
    },
    {
      "cell_type": "code",
      "source": [
        "# Preprocess the data\n",
        "X = data.drop('Outcome', axis=1).values\n",
        "y = data['Outcome'].values.reshape(-1, 1)\n"
      ],
      "metadata": {
        "id": "EZAGki7yDP3b"
      },
      "execution_count": 23,
      "outputs": []
    },
    {
      "cell_type": "code",
      "source": [
        "# Split the data into training and testing sets\n",
        "train_idx = int(0.8 * len(X))\n",
        "X_train, y_train = X[:train_idx], y[:train_idx]\n",
        "X_test, y_test = X[train_idx:], y[train_idx:]"
      ],
      "metadata": {
        "id": "enTuWpQeDUiX"
      },
      "execution_count": 24,
      "outputs": []
    },
    {
      "cell_type": "code",
      "source": [
        "# Scale the data\n",
        "X_train = (X_train - np.mean(X_train, axis=0)) / np.std(X_train, axis=0)\n",
        "X_test = (X_test - np.mean(X_test, axis=0)) / np.std(X_test, axis=0)"
      ],
      "metadata": {
        "id": "C9IKlBb-Dasv"
      },
      "execution_count": 25,
      "outputs": []
    },
    {
      "cell_type": "code",
      "source": [
        "# Create and train the model\n",
        "input_size = X_train.shape[1]\n",
        "hidden_size = 16\n",
        "output_size = 1\n",
        "learning_rate = 0.01\n",
        "epochs = 1000\n",
        "nn = NeuralNetwork(input_size, hidden_size, output_size, learning_rate)\n",
        "nn.train(X_train, y_train, epochs)"
      ],
      "metadata": {
        "id": "Wg1e5uWHDdvC"
      },
      "execution_count": 26,
      "outputs": []
    },
    {
      "cell_type": "code",
      "source": [
        "# Evaluate the model on the testing set\n",
        "y_pred = nn.predict(X_test)\n",
        "y_pred = np.round(y_pred)\n",
        "accuracy = np.mean(y_pred == y_test)\n",
        "print(\"Accuracy:\", accuracy)"
      ],
      "metadata": {
        "colab": {
          "base_uri": "https://localhost:8080/"
        },
        "id": "Xhwc3e-eDoCH",
        "outputId": "d71d31a5-bbde-4462-a57d-9ce79d7bbb0d"
      },
      "execution_count": 27,
      "outputs": [
        {
          "output_type": "stream",
          "name": "stdout",
          "text": [
            "Accuracy: 0.7532467532467533\n"
          ]
        }
      ]
    }
  ]
}